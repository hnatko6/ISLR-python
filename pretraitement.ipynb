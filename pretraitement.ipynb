{
  "nbformat": 4,
  "nbformat_minor": 0,
  "metadata": {
    "colab": {
      "name": "pretraitement.ipynb",
      "provenance": [],
      "collapsed_sections": [],
      "authorship_tag": "ABX9TyPrxiEB+PHoWrBlZpA+AgTF",
      "include_colab_link": true
    },
    "kernelspec": {
      "name": "python3",
      "display_name": "Python 3"
    },
    "language_info": {
      "name": "python"
    }
  },
  "cells": [
    {
      "cell_type": "markdown",
      "metadata": {
        "id": "view-in-github",
        "colab_type": "text"
      },
      "source": [
        "<a href=\"https://colab.research.google.com/github/hnatko6/ISLR-python/blob/master/pretraitement.ipynb\" target=\"_parent\"><img src=\"https://colab.research.google.com/assets/colab-badge.svg\" alt=\"Open In Colab\"/></a>"
      ]
    },
    {
      "cell_type": "markdown",
      "metadata": {
        "id": "Jh7rKd1hfocO"
      },
      "source": [
        "\n",
        "## 1. Chargement du fichier de données"
      ]
    },
    {
      "cell_type": "code",
      "metadata": {
        "colab": {
          "resources": {
            "http://localhost:8080/nbextensions/google.colab/files.js": {
              "data": "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",
              "ok": true,
              "headers": [
                [
                  "content-type",
                  "application/javascript"
                ]
              ],
              "status": 200,
              "status_text": ""
            }
          },
          "base_uri": "https://localhost:8080/",
          "height": 74
        },
        "id": "I-2daamynhTt",
        "outputId": "e4c132d7-c210-4eb1-863f-afc38f235598"
      },
      "source": [
        "from google.colab import files\n",
        "  \n",
        "  \n",
        "uploaded = files.upload()"
      ],
      "execution_count": 14,
      "outputs": [
        {
          "output_type": "display_data",
          "data": {
            "text/html": [
              "\n",
              "     <input type=\"file\" id=\"files-6cfdced9-f7be-47f5-aecb-590819a737c6\" name=\"files[]\" multiple disabled\n",
              "        style=\"border:none\" />\n",
              "     <output id=\"result-6cfdced9-f7be-47f5-aecb-590819a737c6\">\n",
              "      Upload widget is only available when the cell has been executed in the\n",
              "      current browser session. Please rerun this cell to enable.\n",
              "      </output>\n",
              "      <script src=\"/nbextensions/google.colab/files.js\"></script> "
            ],
            "text/plain": [
              "<IPython.core.display.HTML object>"
            ]
          },
          "metadata": {}
        },
        {
          "output_type": "stream",
          "name": "stdout",
          "text": [
            "Saving all_articles.csv to all_articles.csv\n"
          ]
        }
      ]
    },
    {
      "cell_type": "code",
      "metadata": {
        "colab": {
          "base_uri": "https://localhost:8080/"
        },
        "id": "hwY5DoJypb5f",
        "outputId": "bd017513-e2f1-459b-e740-dcf3c2da01e8"
      },
      "source": [
        "!pip install stopwordsiso"
      ],
      "execution_count": 8,
      "outputs": [
        {
          "output_type": "stream",
          "name": "stdout",
          "text": [
            "Collecting stopwordsiso\n",
            "  Downloading stopwordsiso-0.6.1-py3-none-any.whl (73 kB)\n",
            "\u001b[?25l\r\u001b[K     |████▌                           | 10 kB 21.8 MB/s eta 0:00:01\r\u001b[K     |█████████                       | 20 kB 24.3 MB/s eta 0:00:01\r\u001b[K     |█████████████▍                  | 30 kB 27.1 MB/s eta 0:00:01\r\u001b[K     |█████████████████▉              | 40 kB 29.0 MB/s eta 0:00:01\r\u001b[K     |██████████████████████▎         | 51 kB 30.8 MB/s eta 0:00:01\r\u001b[K     |██████████████████████████▊     | 61 kB 33.5 MB/s eta 0:00:01\r\u001b[K     |███████████████████████████████▏| 71 kB 34.5 MB/s eta 0:00:01\r\u001b[K     |████████████████████████████████| 73 kB 2.1 MB/s \n",
            "\u001b[?25hInstalling collected packages: stopwordsiso\n",
            "Successfully installed stopwordsiso-0.6.1\n"
          ]
        }
      ]
    },
    {
      "cell_type": "code",
      "metadata": {
        "colab": {
          "base_uri": "https://localhost:8080/"
        },
        "id": "TqNIyfWlpgKd",
        "outputId": "3f4ac349-d3f0-42ff-cdc1-3925a720c081"
      },
      "source": [
        "!python -m spacy download fr_core_news_sm"
      ],
      "execution_count": 6,
      "outputs": [
        {
          "output_type": "stream",
          "name": "stdout",
          "text": [
            "Collecting fr_core_news_sm==2.2.5\n",
            "  Downloading https://github.com/explosion/spacy-models/releases/download/fr_core_news_sm-2.2.5/fr_core_news_sm-2.2.5.tar.gz (14.7 MB)\n",
            "\u001b[K     |████████████████████████████████| 14.7 MB 17.1 MB/s \n",
            "\u001b[?25hRequirement already satisfied: spacy>=2.2.2 in /usr/local/lib/python3.7/dist-packages (from fr_core_news_sm==2.2.5) (2.2.4)\n",
            "Requirement already satisfied: tqdm<5.0.0,>=4.38.0 in /usr/local/lib/python3.7/dist-packages (from spacy>=2.2.2->fr_core_news_sm==2.2.5) (4.62.3)\n",
            "Requirement already satisfied: preshed<3.1.0,>=3.0.2 in /usr/local/lib/python3.7/dist-packages (from spacy>=2.2.2->fr_core_news_sm==2.2.5) (3.0.6)\n",
            "Requirement already satisfied: plac<1.2.0,>=0.9.6 in /usr/local/lib/python3.7/dist-packages (from spacy>=2.2.2->fr_core_news_sm==2.2.5) (1.1.3)\n",
            "Requirement already satisfied: thinc==7.4.0 in /usr/local/lib/python3.7/dist-packages (from spacy>=2.2.2->fr_core_news_sm==2.2.5) (7.4.0)\n",
            "Requirement already satisfied: cymem<2.1.0,>=2.0.2 in /usr/local/lib/python3.7/dist-packages (from spacy>=2.2.2->fr_core_news_sm==2.2.5) (2.0.6)\n",
            "Requirement already satisfied: wasabi<1.1.0,>=0.4.0 in /usr/local/lib/python3.7/dist-packages (from spacy>=2.2.2->fr_core_news_sm==2.2.5) (0.8.2)\n",
            "Requirement already satisfied: blis<0.5.0,>=0.4.0 in /usr/local/lib/python3.7/dist-packages (from spacy>=2.2.2->fr_core_news_sm==2.2.5) (0.4.1)\n",
            "Requirement already satisfied: catalogue<1.1.0,>=0.0.7 in /usr/local/lib/python3.7/dist-packages (from spacy>=2.2.2->fr_core_news_sm==2.2.5) (1.0.0)\n",
            "Requirement already satisfied: setuptools in /usr/local/lib/python3.7/dist-packages (from spacy>=2.2.2->fr_core_news_sm==2.2.5) (57.4.0)\n",
            "Requirement already satisfied: srsly<1.1.0,>=1.0.2 in /usr/local/lib/python3.7/dist-packages (from spacy>=2.2.2->fr_core_news_sm==2.2.5) (1.0.5)\n",
            "Requirement already satisfied: requests<3.0.0,>=2.13.0 in /usr/local/lib/python3.7/dist-packages (from spacy>=2.2.2->fr_core_news_sm==2.2.5) (2.23.0)\n",
            "Requirement already satisfied: numpy>=1.15.0 in /usr/local/lib/python3.7/dist-packages (from spacy>=2.2.2->fr_core_news_sm==2.2.5) (1.19.5)\n",
            "Requirement already satisfied: murmurhash<1.1.0,>=0.28.0 in /usr/local/lib/python3.7/dist-packages (from spacy>=2.2.2->fr_core_news_sm==2.2.5) (1.0.6)\n",
            "Requirement already satisfied: importlib-metadata>=0.20 in /usr/local/lib/python3.7/dist-packages (from catalogue<1.1.0,>=0.0.7->spacy>=2.2.2->fr_core_news_sm==2.2.5) (4.8.2)\n",
            "Requirement already satisfied: typing-extensions>=3.6.4 in /usr/local/lib/python3.7/dist-packages (from importlib-metadata>=0.20->catalogue<1.1.0,>=0.0.7->spacy>=2.2.2->fr_core_news_sm==2.2.5) (3.10.0.2)\n",
            "Requirement already satisfied: zipp>=0.5 in /usr/local/lib/python3.7/dist-packages (from importlib-metadata>=0.20->catalogue<1.1.0,>=0.0.7->spacy>=2.2.2->fr_core_news_sm==2.2.5) (3.6.0)\n",
            "Requirement already satisfied: certifi>=2017.4.17 in /usr/local/lib/python3.7/dist-packages (from requests<3.0.0,>=2.13.0->spacy>=2.2.2->fr_core_news_sm==2.2.5) (2021.10.8)\n",
            "Requirement already satisfied: urllib3!=1.25.0,!=1.25.1,<1.26,>=1.21.1 in /usr/local/lib/python3.7/dist-packages (from requests<3.0.0,>=2.13.0->spacy>=2.2.2->fr_core_news_sm==2.2.5) (1.24.3)\n",
            "Requirement already satisfied: chardet<4,>=3.0.2 in /usr/local/lib/python3.7/dist-packages (from requests<3.0.0,>=2.13.0->spacy>=2.2.2->fr_core_news_sm==2.2.5) (3.0.4)\n",
            "Requirement already satisfied: idna<3,>=2.5 in /usr/local/lib/python3.7/dist-packages (from requests<3.0.0,>=2.13.0->spacy>=2.2.2->fr_core_news_sm==2.2.5) (2.10)\n",
            "Building wheels for collected packages: fr-core-news-sm\n",
            "  Building wheel for fr-core-news-sm (setup.py) ... \u001b[?25l\u001b[?25hdone\n",
            "  Created wheel for fr-core-news-sm: filename=fr_core_news_sm-2.2.5-py3-none-any.whl size=14727026 sha256=97b3ede54e9bd14db3f55dd615e67788c6851e1c2fa576e2f4cdc27e37386039\n",
            "  Stored in directory: /tmp/pip-ephem-wheel-cache-8bubo6r3/wheels/c9/a6/ea/0778337c34660027ee67ef3a91fb9d3600b76777a912ea1c24\n",
            "Successfully built fr-core-news-sm\n",
            "Installing collected packages: fr-core-news-sm\n",
            "Successfully installed fr-core-news-sm-2.2.5\n",
            "\u001b[38;5;2m✔ Download and installation successful\u001b[0m\n",
            "You can now load the model via spacy.load('fr_core_news_sm')\n"
          ]
        }
      ]
    },
    {
      "cell_type": "code",
      "metadata": {
        "id": "gWvUOKF0nzBu"
      },
      "source": [
        "from difflib import HtmlDiff\n",
        "from IPython.core.display import display, HTML\n",
        "\n",
        "from keras.preprocessing.text import text_to_word_sequence\n",
        "import matplotlib.pyplot as plt\n",
        "import nltk\n",
        "from nltk.stem.snowball import SnowballStemmer\n",
        "from nltk.tokenize import word_tokenize\n",
        "from nltk.corpus import stopwords\n",
        "import numpy as np\n",
        "import pandas as pd\n",
        "import spacy\n",
        "import fr_core_news_sm\n",
        "\n",
        "\n",
        "import stopwordsiso as swiso\n"
      ],
      "execution_count": 9,
      "outputs": []
    },
    {
      "cell_type": "code",
      "metadata": {
        "colab": {
          "base_uri": "https://localhost:8080/"
        },
        "id": "AsfJBZywapVX",
        "outputId": "79073dce-5f2b-42cf-b0d6-98ede104060e"
      },
      "source": [
        "import nltk\n",
        "nltk.download('punkt')"
      ],
      "execution_count": 10,
      "outputs": [
        {
          "output_type": "stream",
          "name": "stdout",
          "text": [
            "[nltk_data] Downloading package punkt to /root/nltk_data...\n",
            "[nltk_data]   Unzipping tokenizers/punkt.zip.\n"
          ]
        },
        {
          "output_type": "execute_result",
          "data": {
            "text/plain": [
              "True"
            ]
          },
          "metadata": {},
          "execution_count": 10
        }
      ]
    },
    {
      "cell_type": "code",
      "metadata": {
        "colab": {
          "base_uri": "https://localhost:8080/"
        },
        "id": "w_wAXnevp1Vn",
        "outputId": "d194194a-e021-4d30-c577-c25664276182"
      },
      "source": [
        "nltk.download('stopwords')"
      ],
      "execution_count": 11,
      "outputs": [
        {
          "output_type": "stream",
          "name": "stdout",
          "text": [
            "[nltk_data] Downloading package stopwords to /root/nltk_data...\n",
            "[nltk_data]   Unzipping corpora/stopwords.zip.\n"
          ]
        },
        {
          "output_type": "execute_result",
          "data": {
            "text/plain": [
              "True"
            ]
          },
          "metadata": {},
          "execution_count": 11
        }
      ]
    },
    {
      "cell_type": "code",
      "metadata": {
        "id": "_I6vU_YfZ_ev"
      },
      "source": [
        "spacy_pipeline = fr_core_news_sm.load(disable=[\"parser\", \"ner\",\"lemmatizer\"])"
      ],
      "execution_count": 12,
      "outputs": []
    },
    {
      "cell_type": "markdown",
      "metadata": {
        "id": "4Q8Ianhdp2o_"
      },
      "source": [
        "\n",
        "\n",
        "```\n",
        "# This is formatted as code\n",
        "```\n",
        "\n",
        "\n",
        "## 1. Chargement du fichier avec Pandas 🐼\n"
      ]
    },
    {
      "cell_type": "code",
      "metadata": {
        "colab": {
          "base_uri": "https://localhost:8080/",
          "height": 423
        },
        "id": "Bbte5Mjln-xx",
        "outputId": "ee94aa32-8b2f-4862-e9c9-c2332ccbd5da"
      },
      "source": [
        "df = pd.read_csv('all_articles.csv',header=None, sep='\\t')\n",
        "df.columns = [\"Description\", \"Categorie\", \"Lien\"]\n",
        "df"
      ],
      "execution_count": 15,
      "outputs": [
        {
          "output_type": "execute_result",
          "data": {
            "text/html": [
              "<div>\n",
              "<style scoped>\n",
              "    .dataframe tbody tr th:only-of-type {\n",
              "        vertical-align: middle;\n",
              "    }\n",
              "\n",
              "    .dataframe tbody tr th {\n",
              "        vertical-align: top;\n",
              "    }\n",
              "\n",
              "    .dataframe thead th {\n",
              "        text-align: right;\n",
              "    }\n",
              "</style>\n",
              "<table border=\"1\" class=\"dataframe\">\n",
              "  <thead>\n",
              "    <tr style=\"text-align: right;\">\n",
              "      <th></th>\n",
              "      <th>Description</th>\n",
              "      <th>Categorie</th>\n",
              "      <th>Lien</th>\n",
              "    </tr>\n",
              "  </thead>\n",
              "  <tbody>\n",
              "    <tr>\n",
              "      <th>0</th>\n",
              "      <td>11 août 2009. – Aryan Papers, projet sur leque...</td>\n",
              "      <td>science_culture</td>\n",
              "      <td>https://fr.wikinews.org/wiki/%C2%AB_Aryan_Pape...</td>\n",
              "    </tr>\n",
              "    <tr>\n",
              "      <th>1</th>\n",
              "      <td>16 février 2016. – Près de 30 ans après sa cré...</td>\n",
              "      <td>science_culture</td>\n",
              "      <td>https://fr.wikinews.org/wiki/%C2%AB_The_Indepe...</td>\n",
              "    </tr>\n",
              "    <tr>\n",
              "      <th>2</th>\n",
              "      <td>WIKINEWSMédias La source d'informationsque vou...</td>\n",
              "      <td>science_culture</td>\n",
              "      <td>https://fr.wikinews.org/wiki/Page:M%C3%A9dias</td>\n",
              "    </tr>\n",
              "    <tr>\n",
              "      <th>3</th>\n",
              "      <td>3 mai 2005. – Cette journée, instaurée par l'U...</td>\n",
              "      <td>science_culture</td>\n",
              "      <td>https://fr.wikinews.org/wiki/15e_Journ%C3%A9e_...</td>\n",
              "    </tr>\n",
              "    <tr>\n",
              "      <th>4</th>\n",
              "      <td>5 mars 2008. – Un rapport d'un expert indépend...</td>\n",
              "      <td>science_culture</td>\n",
              "      <td>https://fr.wikinews.org/wiki/Affaire_Al_Doura_...</td>\n",
              "    </tr>\n",
              "    <tr>\n",
              "      <th>...</th>\n",
              "      <td>...</td>\n",
              "      <td>...</td>\n",
              "      <td>...</td>\n",
              "    </tr>\n",
              "    <tr>\n",
              "      <th>3588</th>\n",
              "      <td>13 mars 2007. –  Le Conseil d'État vient de ce...</td>\n",
              "      <td>justice</td>\n",
              "      <td>https://fr.wikinews.org/wiki/France_:_le_Conse...</td>\n",
              "    </tr>\n",
              "    <tr>\n",
              "      <th>3589</th>\n",
              "      <td>15 mai 2007. – Le Conseil d'État vient de reje...</td>\n",
              "      <td>justice</td>\n",
              "      <td>https://fr.wikinews.org/wiki/France_:_le_Conse...</td>\n",
              "    </tr>\n",
              "    <tr>\n",
              "      <th>3590</th>\n",
              "      <td>19 mai 2010. – Daniel Duquenne, maire d'Hénin-...</td>\n",
              "      <td>justice</td>\n",
              "      <td>https://fr.wikinews.org/wiki/France_:_le_Conse...</td>\n",
              "    </tr>\n",
              "    <tr>\n",
              "      <th>3591</th>\n",
              "      <td>11 septembre 2007. –  Dans une décision rendue...</td>\n",
              "      <td>justice</td>\n",
              "      <td>https://fr.wikinews.org/wiki/France_:_le_Conse...</td>\n",
              "    </tr>\n",
              "    <tr>\n",
              "      <th>3592</th>\n",
              "      <td>2 juin 2007. – Le Conseil d'État vient de cens...</td>\n",
              "      <td>justice</td>\n",
              "      <td>https://fr.wikinews.org/wiki/France_:_le_Conse...</td>\n",
              "    </tr>\n",
              "  </tbody>\n",
              "</table>\n",
              "<p>3593 rows × 3 columns</p>\n",
              "</div>"
            ],
            "text/plain": [
              "                                            Description  ...                                               Lien\n",
              "0     11 août 2009. – Aryan Papers, projet sur leque...  ...  https://fr.wikinews.org/wiki/%C2%AB_Aryan_Pape...\n",
              "1     16 février 2016. – Près de 30 ans après sa cré...  ...  https://fr.wikinews.org/wiki/%C2%AB_The_Indepe...\n",
              "2     WIKINEWSMédias La source d'informationsque vou...  ...      https://fr.wikinews.org/wiki/Page:M%C3%A9dias\n",
              "3     3 mai 2005. – Cette journée, instaurée par l'U...  ...  https://fr.wikinews.org/wiki/15e_Journ%C3%A9e_...\n",
              "4     5 mars 2008. – Un rapport d'un expert indépend...  ...  https://fr.wikinews.org/wiki/Affaire_Al_Doura_...\n",
              "...                                                 ...  ...                                                ...\n",
              "3588  13 mars 2007. –  Le Conseil d'État vient de ce...  ...  https://fr.wikinews.org/wiki/France_:_le_Conse...\n",
              "3589  15 mai 2007. – Le Conseil d'État vient de reje...  ...  https://fr.wikinews.org/wiki/France_:_le_Conse...\n",
              "3590  19 mai 2010. – Daniel Duquenne, maire d'Hénin-...  ...  https://fr.wikinews.org/wiki/France_:_le_Conse...\n",
              "3591  11 septembre 2007. –  Dans une décision rendue...  ...  https://fr.wikinews.org/wiki/France_:_le_Conse...\n",
              "3592  2 juin 2007. – Le Conseil d'État vient de cens...  ...  https://fr.wikinews.org/wiki/France_:_le_Conse...\n",
              "\n",
              "[3593 rows x 3 columns]"
            ]
          },
          "metadata": {},
          "execution_count": 15
        }
      ]
    },
    {
      "cell_type": "markdown",
      "source": [
        "#1.1 Enlever les numeros et mois"
      ],
      "metadata": {
        "id": "BA_pluEW6I7c"
      }
    },
    {
      "cell_type": "code",
      "source": [
        "import re"
      ],
      "metadata": {
        "id": "ptksoXdv6P82"
      },
      "execution_count": 17,
      "outputs": []
    },
    {
      "cell_type": "markdown",
      "source": [
        "Supprimer la date au début de chaque article"
      ],
      "metadata": {
        "id": "Aqhb_bF3na-J"
      }
    },
    {
      "cell_type": "code",
      "source": [
        "df['Description'] = df['Description'].str.replace('\\d+', '')\n"
      ],
      "metadata": {
        "id": "ZP8Lhc2Q6kSd"
      },
      "execution_count": 18,
      "outputs": []
    },
    {
      "cell_type": "code",
      "source": [
        "df['Description'] = df['Description'].str.replace('mai|août|juin|juillet|octobre|septembre|decembre|janvier|février|mars|avril|novembre', '')"
      ],
      "metadata": {
        "id": "uiaXufuL6pJj"
      },
      "execution_count": 20,
      "outputs": []
    },
    {
      "cell_type": "code",
      "source": [
        "df['Description'] = df['Description'].str.replace('Courriel|Digg|Facebook|Identi.ca|Reddit|Linkedin|Twitter|Yahoo!|Whatsapp', '')\n"
      ],
      "metadata": {
        "id": "g0d9QWjcFoeJ"
      },
      "execution_count": 21,
      "outputs": []
    },
    {
      "cell_type": "code",
      "source": [
        "df['Description'] = df['Description'].str.replace('. – ', '')\n"
      ],
      "metadata": {
        "id": "jfdfxPPUmwtt"
      },
      "execution_count": 30,
      "outputs": []
    },
    {
      "cell_type": "code",
      "source": [
        "pd.set_option('display.max_colwidth', None)"
      ],
      "metadata": {
        "id": "vxa7X0Z8Gmnk"
      },
      "execution_count": 26,
      "outputs": []
    },
    {
      "cell_type": "code",
      "source": [
        "df.head(3)"
      ],
      "metadata": {
        "colab": {
          "base_uri": "https://localhost:8080/",
          "height": 1000
        },
        "id": "0sps8Y8L8uHa",
        "outputId": "f9d2665e-3738-402d-af2e-1c488b95162a"
      },
      "execution_count": 31,
      "outputs": [
        {
          "output_type": "execute_result",
          "data": {
            "text/html": [
              "<div>\n",
              "<style scoped>\n",
              "    .dataframe tbody tr th:only-of-type {\n",
              "        vertical-align: middle;\n",
              "    }\n",
              "\n",
              "    .dataframe tbody tr th {\n",
              "        vertical-align: top;\n",
              "    }\n",
              "\n",
              "    .dataframe thead th {\n",
              "        text-align: right;\n",
              "    }\n",
              "</style>\n",
              "<table border=\"1\" class=\"dataframe\">\n",
              "  <thead>\n",
              "    <tr style=\"text-align: right;\">\n",
              "      <th></th>\n",
              "      <th>Description</th>\n",
              "      <th>Categorie</th>\n",
              "      <th>Lien</th>\n",
              "    </tr>\n",
              "  </thead>\n",
              "  <tbody>\n",
              "    <tr>\n",
              "      <th>0</th>\n",
              "      <td>Aryan Papers, projet sur lequel Stanley Kubrick avait travaillé durant plusieurs années, avait, à l'époque, été abandonné. Aujourd'hui, Ang Lee pourrait remettre d'actualité ce projet. En effet, Kubrick s'était accordé avec la Warner Bros. lors de l'abandon du projet : La Liste de Schindler, de Steven Spielberg (), venait de sortir, et les deux films traitaient du même sujet : l'Holocauste. Tous les documents et recherches que Kubrick avait préparé pour le tournage ont été dévoilés au  Festival du film d'Édimbourg. Et, présente durant le Festival, la famille du cinéaste représenté par Jan Harlan a exprimé le souhait de voir enfin réaliser le projet inachevé, évoquant par ailleurs le nom d'Ang Lee du côté de la réalisation. Aryan Papers est l'adaptation de la nouvelle de Louis Begley, War Time Lies (parue en France sous le nom Une éducation polonaise). L'histoire relation l'enfance d'un juif qui vécu caché à Varsovie, ville occupée par les Nazis. Stanley Kubrick devait débuter le tournage dans le début des années , néanmoins, en tant que cinéaste perfectionniste, il fut retardé par sa recherche d'informations. De plus, le film lui tenait à cœur, puisqu'il était lumême d'origines juives d'Europe Centrale. Jan Harlan a ainsi déclaré, pendant le Festival : « Je regrette qu'il n'ait ja été fait  c'était une décision qui appartenait à Stanley et à Warner Bros. Une décision probablement très juste à l'époque ». La Warner est toujours détentrice des droits,  s'est refusé à confirmer ou infirmer l'avenir du projet.</td>\n",
              "      <td>science_culture</td>\n",
              "      <td>https://fr.wikinews.org/wiki/%C2%AB_Aryan_Papers_%C2%BB,_le_projet_de_Stanley_Kubrick_de_nouveau_d%27actualit%C3%A9_%3F</td>\n",
              "    </tr>\n",
              "    <tr>\n",
              "      <th>1</th>\n",
              "      <td>Près de  ans après sa création, le quotidien britannique The Independent va cesser d'être imprimé, a annoncé son propriétaire Evgeny Lebedev. Le journal ne tire qu'à   exemplaires quotidiennement, ce qui en fait le journal national le moins distribué au RoyaumUni ; il publiera sa dernière édition le   Le titre va continuer à exister,  uniquement sur internet. Une centaine de journalistes (soit plus de la moitié de la rédaction) devraient perdre leur emploi, tandis que  embauches devront renforcer le site. — Evgeny Lebedev, propriétaire de The Independent L'oligarque russe qui détient le journal veut mettre fin à la crise qui secoue le titre, dont la diffusion a été divisée par trois en cinq ans. À l'inverse, la présence de la marque sur internet est importante,  doit faire face au manque de rentabilité de la publicité numérique (ses contenus en ligne sont totalement gratuits). Certains journalistes du quotidien déplorent que cette présence numérique se fasse au dépend de la qualité. Lorsqu'il avait racheté The Independent en , E. Lebedev avait lancé i, une version condensée du titre principal vendu pour seulement  centimes, tout en proposant un contenu aussi sérieux. Ce titre à bas prix vend aujourd'hui   exemplaires par jours, devançant ainsi The Guardian et The Financial Times au RoyaumUni. i dégagé un bénéfice opérationnel de , millions de livres (, millions d'euros),  le propriétaire a décidé de le vendre vendredi dernier, laissant The Independent seul face à son sort. The Independent est le premier quotidien britannique à cesser son édition papier,  ce choix a déjà été fait par plusieurs publications à travers le monde. Face à la chute des ventes au numéro de la presse anglaise, il est probable que son exemple soit suivi par d'autres publications dans les années à venir.   Partager cet article :,,,,,,,,</td>\n",
              "      <td>science_culture</td>\n",
              "      <td>https://fr.wikinews.org/wiki/%C2%AB_The_Independent_%C2%BB_va_cesser_ses_%C3%A9ditions_papiers</td>\n",
              "    </tr>\n",
              "    <tr>\n",
              "      <th>2</th>\n",
              "      <td>WIKINEWSMédias La source d'informationsque vous pouvez écrire Ce  samedi   à : (UTC),Wikinews Médias compte  articles. Actualiser la page</td>\n",
              "      <td>science_culture</td>\n",
              "      <td>https://fr.wikinews.org/wiki/Page:M%C3%A9dias</td>\n",
              "    </tr>\n",
              "  </tbody>\n",
              "</table>\n",
              "</div>"
            ],
            "text/plain": [
              "                                                                                                                                                                                                                                                                                                                                                                                                                                                                                                                                                                                                                                                                                                                                                                                                                                                                                                                                                                                                                                                                                                                                                                                                                                                                                                                                                                                                                                                                                                                                                                                                                                                                                                                                                                                                                                                                                                        Description  ...                                                                                                                     Lien\n",
              "0                                                                                                                                                                                                                                                                                                                       Aryan Papers, projet sur lequel Stanley Kubrick avait travaillé durant plusieurs années, avait, à l'époque, été abandonné. Aujourd'hui, Ang Lee pourrait remettre d'actualité ce projet. En effet, Kubrick s'était accordé avec la Warner Bros. lors de l'abandon du projet : La Liste de Schindler, de Steven Spielberg (), venait de sortir, et les deux films traitaient du même sujet : l'Holocauste. Tous les documents et recherches que Kubrick avait préparé pour le tournage ont été dévoilés au  Festival du film d'Édimbourg. Et, présente durant le Festival, la famille du cinéaste représenté par Jan Harlan a exprimé le souhait de voir enfin réaliser le projet inachevé, évoquant par ailleurs le nom d'Ang Lee du côté de la réalisation. Aryan Papers est l'adaptation de la nouvelle de Louis Begley, War Time Lies (parue en France sous le nom Une éducation polonaise). L'histoire relation l'enfance d'un juif qui vécu caché à Varsovie, ville occupée par les Nazis. Stanley Kubrick devait débuter le tournage dans le début des années , néanmoins, en tant que cinéaste perfectionniste, il fut retardé par sa recherche d'informations. De plus, le film lui tenait à cœur, puisqu'il était lumême d'origines juives d'Europe Centrale. Jan Harlan a ainsi déclaré, pendant le Festival : « Je regrette qu'il n'ait ja été fait  c'était une décision qui appartenait à Stanley et à Warner Bros. Une décision probablement très juste à l'époque ». La Warner est toujours détentrice des droits,  s'est refusé à confirmer ou infirmer l'avenir du projet.  ...  https://fr.wikinews.org/wiki/%C2%AB_Aryan_Papers_%C2%BB,_le_projet_de_Stanley_Kubrick_de_nouveau_d%27actualit%C3%A9_%3F\n",
              "1   Près de  ans après sa création, le quotidien britannique The Independent va cesser d'être imprimé, a annoncé son propriétaire Evgeny Lebedev. Le journal ne tire qu'à   exemplaires quotidiennement, ce qui en fait le journal national le moins distribué au RoyaumUni ; il publiera sa dernière édition le   Le titre va continuer à exister,  uniquement sur internet. Une centaine de journalistes (soit plus de la moitié de la rédaction) devraient perdre leur emploi, tandis que  embauches devront renforcer le site. — Evgeny Lebedev, propriétaire de The Independent L'oligarque russe qui détient le journal veut mettre fin à la crise qui secoue le titre, dont la diffusion a été divisée par trois en cinq ans. À l'inverse, la présence de la marque sur internet est importante,  doit faire face au manque de rentabilité de la publicité numérique (ses contenus en ligne sont totalement gratuits). Certains journalistes du quotidien déplorent que cette présence numérique se fasse au dépend de la qualité. Lorsqu'il avait racheté The Independent en , E. Lebedev avait lancé i, une version condensée du titre principal vendu pour seulement  centimes, tout en proposant un contenu aussi sérieux. Ce titre à bas prix vend aujourd'hui   exemplaires par jours, devançant ainsi The Guardian et The Financial Times au RoyaumUni. i dégagé un bénéfice opérationnel de , millions de livres (, millions d'euros),  le propriétaire a décidé de le vendre vendredi dernier, laissant The Independent seul face à son sort. The Independent est le premier quotidien britannique à cesser son édition papier,  ce choix a déjà été fait par plusieurs publications à travers le monde. Face à la chute des ventes au numéro de la presse anglaise, il est probable que son exemple soit suivi par d'autres publications dans les années à venir.   Partager cet article :,,,,,,,,  ...                           https://fr.wikinews.org/wiki/%C2%AB_The_Independent_%C2%BB_va_cesser_ses_%C3%A9ditions_papiers\n",
              "2                                                                                                                                                                                                                                                                                                                                                                                                                                                                                                                                                                                                                                                                                                                                                                                                                                                                                                                                                                                                                                                                                                                                                                                                                                                                                                                                                                                                                                                                                                                                                                                                                                                                                                                                                                         WIKINEWSMédias La source d'informationsque vous pouvez écrire Ce  samedi   à : (UTC),Wikinews Médias compte  articles. Actualiser la page  ...                                                                            https://fr.wikinews.org/wiki/Page:M%C3%A9dias\n",
              "\n",
              "[3 rows x 3 columns]"
            ]
          },
          "metadata": {},
          "execution_count": 31
        }
      ]
    },
    {
      "cell_type": "markdown",
      "metadata": {
        "id": "WBJzLyaTcoiq"
      },
      "source": [
        "## 2. ✂️ Découpage du texte en tokens (Spacy)"
      ]
    },
    {
      "cell_type": "code",
      "metadata": {
        "id": "XPotTRwQmyP8"
      },
      "source": [
        "spacy_pipeline = fr_core_news_sm.load(disable=[\"parser\", \"ner\"])\n",
        "\n",
        "def split_into_tokens_spacy(text) :\n",
        "    doc = spacy_pipeline(text)\n",
        "    return [w.text for w in doc]\n"
      ],
      "execution_count": 32,
      "outputs": []
    },
    {
      "cell_type": "code",
      "metadata": {
        "id": "pnuKoxqXm6AE"
      },
      "source": [
        "spacy_tokens = df[\"Description\"].apply(split_into_tokens_spacy)"
      ],
      "execution_count": 33,
      "outputs": []
    },
    {
      "cell_type": "code",
      "metadata": {
        "colab": {
          "base_uri": "https://localhost:8080/"
        },
        "id": "swGNHagxnEZF",
        "outputId": "8ce39707-a583-49f4-ad31-d063a998a0cc"
      },
      "source": [
        "type(spacy_tokens)"
      ],
      "execution_count": 53,
      "outputs": [
        {
          "output_type": "execute_result",
          "data": {
            "text/plain": [
              "pandas.core.series.Series"
            ]
          },
          "metadata": {},
          "execution_count": 53
        }
      ]
    },
    {
      "cell_type": "code",
      "source": [
        "spacy_tokens \n"
      ],
      "metadata": {
        "colab": {
          "base_uri": "https://localhost:8080/"
        },
        "id": "wzibvRWF-XJe",
        "outputId": "db8c8d62-887b-448b-d709-c75743e8168d"
      },
      "execution_count": 34,
      "outputs": [
        {
          "output_type": "execute_result",
          "data": {
            "text/plain": [
              "0                                                         [ , Aryan, Papers, ,, projet, sur, lequel, Stanley, Kubrick, avait, travaillé, durant, plusieurs, années, ,, avait, ,, à, l', époque, ,, été, abandonné, ., Aujourd'hui, ,, Ang, Lee, pourrait, remettre, d', actualité, ce, projet, ., En, effet, ,, Kubrick, s', était, accordé, avec, la, Warner, Bros, ., lors, de, l', abandon, du, projet,  , :, La, Liste, de, Schindler, ,, de, Steven, Spielberg, (, ), ,, venait, de, sortir, ,, et, les, deux, films, traitaient, du, même, sujet,  , :, l', Holocauste, ., Tous, les, documents, et, recherches, que, Kubrick, avait, préparé, pour, le, tournage, ont, été, dévoilés, au,  , ...]\n",
              "1                                      [ , Près, de,  , ans, après, sa, création, ,, le, quotidien, britannique, The, Independent, va, cesser, d', être, imprimé, ,, a, annoncé, son, propriétaire, Evgeny, Lebedev, ., Le, journal, ne, tire, qu', à,   , exemplaires, quotidiennement, ,, ce, qui, en, fait, le, journal, national, le, moins, distribué, au, RoyaumUni,  , ;, il, publiera, sa, dernière, édition, le,   , Le, titre, va, continuer, à, exister, ,,  , uniquement, sur, internet, ., Une, centaine, de, journalistes, (, soit, plus, de, la, moitié, de, la, rédaction, ), devraient, perdre, leur, emploi, ,, tandis, que,  , embauches, devront, renforcer, le, site, ., —,  , ...]\n",
              "2                                                                                                                                                                                                                                                                                                                                                                                                                                                                                                                               [WIKINEWSMédias, La, source, d', informationsque, vous, pouvez, écrire, Ce,  , samedi,   , à, :, (, UTC),Wikinews, Médias, compte,  , articles, ., Actualiser, la, page]\n",
              "3                                                                                          [ , Cette, journée, ,, instaurée, par, l', UNESCO, aura, pour, thème, des, «,  , médias, et, de, la, bonne, gouvernance,  , », ., Une, conférence, est, organisée, à, Dakar, du,  , au,  , ., Dans, un, message, ,, le, directeur, général, de, l', UNESCO, Koïchiro, Matsuura, a, ,, entre, autres, ,, rappelé, l', article,  , de, la, Déclaration, Universelle, des, Droits, de, L', Homme,  , :, «,  , Tout, individu, a, droit, à, la, liberté, d', opinion, et, d', expression, ,, ce, qui, implique, le, droit, de, ne, pas, être, inquiété, pour, ses, opinions, et, celui, de, chercher, ,, de, ...]\n",
              "4                                           [ , Un, rapport, d', un, expert, indépendant, relance, la, polémique, sur, la, mort, du, jeune, Mohamed, Al, Dura, lors, des, événements, en, ., Les, faits, remontent, à, ,, lors, d', une, confrontation, entre, Palestiniens, et, un, poste, de, surveillance, israëlien, dans, la, bande, de, Gaza, ,, au, carrefour, de, Netzarim, ., Le,  , ,, France,  , avait, diffusé, un, reportage, d', une, minute, présentant, la, mort, par, balle, du, jeune, Mohamed, sous, le, feu, nourri, des, Israêliens, ., Selon, Talal, Abou, Rhama, ,, journaliste, de, la, chaîne, publique, présent, sur, les, lieux, ,, son, père, ,, Jamal, ,, aurait, été, ...]\n",
              "                                                                                                                                                                                                                                                                                                                                                      ...                                                                                                                                                                                                                                                                                                                                               \n",
              "3588    [  , Le, Conseil, d', État, vient, de, censurer, pour, vice, de, forme, l', arrêté, du,   , du, ministre, d', État, ,, ministre, de, l', intérieur, et, de, l', aménagement, du, territoire, relatif, à, l', informatisation, de, la, procédure, d', éloignement, par, la, création, d', un, traitement, de, données, à, caractère, personnel, au, sein, du, ministère, de, l', intérieur, ., Ce, texte, permettait, de, créer, un, fichier, informatique, ,, baptisé, ELOI, ,, lequel, recense, les, étrangers, non, membres, de, l', Union, européenne, ,, qu', ils, soient, en, situation, irrégulière, ou, non, ., Ce, support, devait, comporter, les, empreintes, digitales, et, une, ...]\n",
              "3589                                                                      [ , Le, Conseil, d', État, vient, de, rejeter, une, requête, tendant, à, l', annulation, d', une, «,   , décision, implicite, de, rejet, résultant, du, silence, gardé, pendant, plus, de, deux, mois, par, le, Conseil, supérieur, de, l’, audiovisuel, (, CSA, ), sur, ses, demandes, adressées, le,  , et, le,   , et, tendant, à, l’, étude, et, à, la, vérification, du, reportage, présentant, la, mort, d’, un, enfant, palestinien, dans, les, bras, de, son, père, à, Gaza, ,, diffusé, par, France,  , le,   , au, journal, de,  , heures,  , », ., Cette, demande, éma, de, la, société, MediRatings, qui, s', ...]\n",
              "3590                                                   [ , Daniel, Duquenne, ,, e, d', HéniBeaumont, ,, a, été, déclaré, inéligible, par, le, Conseil, d', État, dans, un, arrêt, rendu, hier, ., L', élection, de, M., Duquenne, a, eu, lieu, ,, l', an, dernier, ,, dans, un, mouchoir, de, poche, contre, la, liste, défendue, par, le, Front, national, menée, par, Steeve, Briois, et, Marine, Le, Pen, ., Estimant, le, scrutin, irrégulier, ,, M., Briois, avait, saisi, le, tribunal, administratif, de, Lille, de, deux, requêtes,  , :, l', annulation, du, scrutin, et, l', inéligibilité, de, M., Duquenne, ,, ce, qui, avait, été, rejeté, par, les, premiers, juges, ., Ayant, formé, ...]\n",
              "3591                            [  , Dans, une, décision, rendue, le,  , ,, le, Conseil, d', État, vient, d', enjoindre, le, Premier, ministre, de, mettre, en, conformité, à, la, loi, un, décret, concernant, l', exécution, des, décisions, de, justice, condamnant, l', État, et, toutes, personnes, publiques, ., Cette, affaire, tire, sa, source, par, l', adoption, par, le, Parlement, de, l', article,  , de, la, loi, n°, du,  , ., Le, nouveau, texte, réduit, de, deux, mois, les, délais, d', ordonnancement, des, sommes, dont, l', État, et, toutes, personnes, publiques, ont, été, condamnés, par, une, décision, de, justice, ., Ainsi, les, délais, d', ordonnancement, de, la, ...]\n",
              "3592        [ , Le, Conseil, d', État, vient, de, censurer, plusieurs, décisions, de, la, CNIL, refusant, «,  , à, mettre, en, œuvre, un, traitement, de, données, à, caractère, personnel, ayant, pour, finalités, ,, d’, une, part, ,, la, constatation, des, délits, de, contrefaçon, commis, par, l’, intermédiaire, des, réseaux, d’, échange, de, fichiers, dénommés, peer, to, peer, ,, d’, autre, part, ,, l’, envoi, de, messages, pédagogiques, informant, notamment, les, internautes, sur, les, sanctions, prévues, en, matière, de, délit, de, contrefaçon,  , », ., Quatre, sociétés, liées, aux, auteurs, ,,  , surtout, aux, majors, de, la, distribution, de, la, musique, ,, ont, ...]\n",
              "Name: Description, Length: 3593, dtype: object"
            ]
          },
          "metadata": {},
          "execution_count": 34
        }
      ]
    },
    {
      "cell_type": "markdown",
      "metadata": {
        "id": "Fs0r1CfFnvfF"
      },
      "source": [
        "### 3. 📔 Lemmatisation SpaCy"
      ]
    },
    {
      "cell_type": "markdown",
      "metadata": {
        "id": "0kcP0xiZgYPP"
      },
      "source": [
        "Creation de pipeline avec lemmatizer"
      ]
    },
    {
      "cell_type": "code",
      "metadata": {
        "id": "CCkvapxL0VhL"
      },
      "source": [
        "spacy_pipeline_with_lemmas = fr_core_news_sm.load(disable=[\"parser\", \"ner\", \"lemmatizer\"])"
      ],
      "execution_count": 35,
      "outputs": []
    },
    {
      "cell_type": "code",
      "metadata": {
        "colab": {
          "base_uri": "https://localhost:8080/"
        },
        "id": "aou5kuJb0SNG",
        "outputId": "38f8a706-2602-46e5-c114-50a0f02c43e0"
      },
      "source": [
        "def split_into_lemmas_spacy(text):\n",
        "  doc = spacy_pipeline_with_lemmas(text)\n",
        "  return[w.lemma_ for w in doc]\n",
        "\n",
        "spacy_lemmas = df['Description'].apply(split_into_lemmas_spacy)\n",
        "print(spacy_lemmas)"
      ],
      "execution_count": 36,
      "outputs": [
        {
          "output_type": "stream",
          "name": "stdout",
          "text": [
            "0                                             [ , Aryan, Papers, ,, projet, sur, lequel, Stanley, Kubrick, avoir, travailler, durant, plusieurs, année, ,, avoir, ,, à, le, époque, ,, être, abandonner, ., aujourd'hui, ,, Ang, Lee, pouvoir, remettre, de, actualité, ce, projet, ., en, effet, ,, Kubrick, se, être, accorder, avec, le, Warner, Bros, ., lors, de, le, abandon, de, projet,   , :, le, liste, de, Schindler, ,, de, Steven, Spielberg, (, ), ,, venir, de, sortir, ,, et, le, deux, film, traiter, de, même, sujet,   , :, le, holocauste, ., tout, le, document, et, recherche, que, Kubrick, avoir, préparer, pour, le, tournage, avoir, être, dévoiler, au,  , ...]\n",
            "1                  [ , près, de,  , an, après, son, création, ,, le, quotidien, britannique, The, Independent, aller, cesser, de, être, imprimer, ,, avoir, annoncer, son, propriétaire, Evgeny, Lebedev, ., le, journal, ne, tir, que, à,   , exemplaire, quotidiennement, ,, ce, qui, en, faire, le, journal, national, le, moins, distribuer, au, RoyaumUni,   , ;, il, publier, son, dernier, édition, le,   , le, titre, aller, continuer, à, exister, ,,  , uniquement, sur, internet, ., un, centaine, de, journaliste, (, soit, plus, de, le, moitié, de, le, rédaction, ), devoir, perdre, leur, emploi, ,, tandis, que,  , embauche, devoir, renforcer, le, site, ., —,   , ...]\n",
            "2                                                                                                                                                                                                                                                                                                                                                                                                                                                                                                                   [wikinewsmédias, le, source, de, informationsque, vous, pouvoir, écrire, ce,  , samedi,   , à, :, (, utc),wikinew, média, compte,  , article, ., actualiser, le, page]\n",
            "3                                                                          [ , ce, journée, ,, instaurer, par, le, unesco, avoir, pour, thème, un, «,   , média, et, de, le, bon, gouvernance,   , », ., un, conférence, être, organiser, à, Dakar, de,  , au,  , ., dans, un, message, ,, le, directeur, général, de, le, UNESCO, Koïchiro, Matsuura, avoir, ,, entre, autre, ,, rappeler, le, article,  , de, le, déclaration, universel, un, droit, de, le, homme,   , :, «,   , tout, individu, avoir, droit, à, le, liberté, de, opinion, et, de, expression, ,, ce, qui, implique, le, droit, de, ne, pas, être, inquiéter, pour, son, opinion, et, celui, de, chercher, ,, de, ...]\n",
            "4                                         [ , un, rapport, de, un, expert, indépendant, relancer, le, polémique, sur, le, mort, de, jeune, mohamed, al, durer, lors, un, événement, en, ., le, fait, remonter, à, ,, lors, de, un, confrontation, entre, palestinien, et, un, poste, de, surveillance, israëlien, dans, le, bande, de, Gaza, ,, au, carrefour, de, Netzarim, ., le,  , ,, France,  , avoir, diffuser, un, reportage, de, un, minute, présenter, le, mort, par, ball, de, jeune, mohamed, sous, le, feu, nourrir, un, israêlien, ., selon, talal, abou, Rhama, ,, journaliste, de, le, chaîne, public, présent, sur, le, lieu, ,, son, père, ,, Jamal, ,, avoir, être, ...]\n",
            "                                                                                                                                                                                                                                                                                                                                               ...                                                                                                                                                                                                                                                                                                                                        \n",
            "3588    [  , le, Conseil, de, état, vient, de, censurer, pour, vice, de, forme, le, arrêté, de,   , de, ministre, de, état, ,, ministre, de, le, intérieur, et, de, le, aménagement, de, territoire, relatif, à, le, informatisation, de, le, procédure, de, éloignement, par, le, création, de, un, traitement, de, donnée, à, caractère, personnel, au, sein, de, ministère, de, le, intérieur, ., ce, texte, permettait, de, créer, un, fichier, informatique, ,, baptiser, eloi, ,, lequel, recense, le, étranger, non, membre, de, le, Union, européen, ,, que, il, être, en, situation, irrégulier, ou, non, ., ce, support, devoir, comporter, le, empreinte, digital, et, un, ...]\n",
            "3589                                                                  [ , le, Conseil, de, état, vient, de, rejeter, un, requête, tendre, à, le, annulation, de, un, «,   , décision, implicite, de, rejet, résulter, de, silence, garder, pendant, plus, de, deux, mois, par, le, Conseil, supérieur, de, l’, audiovisuel, (, CSA, ), sur, son, demande, adresser, le,  , et, le,   , et, tendre, à, l’, étude, et, à, le, vérification, de, reportage, présenter, le, mort, d’, un, enfant, palestinien, dans, le, bras, de, son, père, à, Gaza, ,, diffuser, par, France,  , le,   , au, journal, de,  , heure,   , », ., ce, demande, éma, de, le, société, mediratings, qui, se, ...]\n",
            "3590       [ , Daniel, Duquenne, ,, e, de, HéniBeaumont, ,, avoir, être, déclaré, inéligible, par, le, Conseil, de, état, dans, un, arrêt, rendre, hier, ., le, élection, de, monsieur, Duquenne, avoir, avoir, lieu, ,, le, an, dernier, ,, dans, un, mouchoir, de, poche, contre, le, liste, défendre, par, le, front, national, mener, par, Steeve, Briois, et, marine, le, Pen, ., estimer, le, scrutin, irrégulier, ,, monsieur, Briois, avoir, saisir, le, tribunal, administratif, de, Lille, de, deux, requête,   , :, le, annulation, de, scrutin, et, le, inéligibilité, de, monsieur, Duquenne, ,, ce, qui, avoir, être, rejeter, par, le, premier, juge, ., avoir, formé, ...]\n",
            "3591                                  [  , dans, un, décision, rendre, le,  , ,, le, Conseil, de, état, vient, de, enjoindre, le, premier, ministre, de, mettre, en, conformité, à, le, loi, un, décret, concerner, le, exécution, un, décision, de, justice, condamner, le, état, et, tout, personne, public, ., ce, affaire, tir, son, source, par, le, adoption, par, le, Parlement, de, le, article,  , de, le, loi, numéro, de,  , ., le, nouveau, texte, réduit, de, deux, mois, le, délai, de, ordonnancement, un, somme, dont, le, état, et, tout, personne, public, avoir, être, condamner, par, un, décision, de, justice, ., ainsi, le, délai, de, ordonnancement, de, le, ...]\n",
            "3592           [ , le, Conseil, de, état, vient, de, censurer, plusieurs, décision, de, le, cnil, refuser, «,   , à, mettre, en, œuvre, un, traitement, de, donnée, à, caractère, personnel, avoir, pour, finaliter, ,, d’, un, part, ,, le, constatation, un, délit, de, contrefaçon, commis, par, l’, intermédiaire, un, réseau, d’, échange, de, fichier, dénommer, peer, to, peer, ,, d’, autre, part, ,, l’, envoi, de, message, pédagogique, informer, notamment, le, internaute, sur, le, sanction, prévoir, en, matière, de, délit, de, contrefaçon,   , », ., Quatre, société, lier, al, auteur, ,,  , surtout, al, majors, de, le, distribution, de, le, musique, ,, avoir, ...]\n",
            "Name: Description, Length: 3593, dtype: object\n"
          ]
        }
      ]
    },
    {
      "cell_type": "markdown",
      "metadata": {
        "id": "Dj8-Wgiscw-w"
      },
      "source": [
        "## 4. Spacy avec stopwords et nettoyage \n",
        "\n",
        "\n",
        "\n"
      ]
    },
    {
      "cell_type": "markdown",
      "metadata": {
        "id": "3-HZQuhAvK4n"
      },
      "source": [
        "creation de variable avec les Stopwords \n"
      ]
    },
    {
      "cell_type": "code",
      "metadata": {
        "colab": {
          "base_uri": "https://localhost:8080/"
        },
        "id": "ItkT80Mz2Jgb",
        "outputId": "9aabcbf9-0a5e-4ce8-cbba-1e622ac58618"
      },
      "source": [
        "sw3 = spacy_pipeline.Defaults.stop_words\n",
        "print(f'Il y a {len(sw3)} mots vides dans la liste de spaCy')\n",
        "print(sw3)"
      ],
      "execution_count": 37,
      "outputs": [
        {
          "output_type": "stream",
          "name": "stdout",
          "text": [
            "Il y a 600 mots vides dans la liste de spaCy\n",
            "{'et', 'personne', 'sienne', 'revoilà', 'été', 'ouvert', 'sein', 'nôtre', 'semblable', \"c'\", 'lors', 'même', 'soi', 'zut', 'pfft', 'si', 'huitième', 'dedans', 'certaines', 'quatre', 'unique', 'quant-à-soi', 'reste', 'suivants', 'strictement', 'hélas', 'premièrement', 'sont', 'laquelle', 'tout', 'assez', 'contre', 'plutôt', 'dire', 'floc', 'hui', 'a', 'au', 'ouverte', 'toi', 'cela', 'autrefois', 'parle', 'speculatif', 'avoir', 'quelques', 'siens', 'il', 'autrui', 'attendu', 'dring', 'mince', 'boum', 'cet', 'non', 'moi-meme', 'exactement', 'septième', 'qu’', 'comparables', 'possessifs', 'on', 'suivant', 'avec', 'uniformement', 'excepté', 'un', 'serait', 'toi-même', 'outre', 'ceux-ci', 'soit', 'quatorze', 'pouah', 'vivat', 'gens', 'directement', 'comment', 'aucun', 'delà', 'auxquels', 'suivantes', 'trois', 'vôtres', 'clac', 'néanmoins', 'restent', 'ci', 'ouias', 'vers', 'ore', 'neuf', 'derriere', 'jusque', 'entre', 'pendant', 'quel', 'semblent', 'vifs', 'douze', 'avaient', 'que', 'suffit', 'environ', 'celles-là', 'sapristi', 'ses', \"t'\", 'abord', 'parfois', 'desquelles', 'certaine', 'dessus', 'jusqu', 'après', 'tienne', 'soi-même', 'ont', 'suit', 'hein', 'qui', 'celui', 'etaient', 'auquel', 'pour', 'quelles', 'hem', 'envers', 'tardive', 'sent', 'fais', 'vives', 'mille', 'relativement', 'ait', 'seront', 'malgre', 'ès', 'où', 'ailleurs', 'chaque', 'peux', 'deux', 'dix-huit', 'cinq', 'lesquelles', 'chacune', 'sixième', 'chère', 'prealable', 'cinquante', \"l'\", 'hi', 'font', 'dernier', 'dixième', 'lorsque', 'concernant', 'car', 'bravo', 'puis', 'dit', 'quoi', 'tiens', 'notamment', 'rares', 't’', 'toute', 'pff', 'trente', 'vous', 'na', 'parmi', 'onzième', 'hé', 'probante', 'importe', 'parce', 'souvent', 'vos', 'unes', 'desquels', 'eux', 'sous', 'suivante', 'ta', 'hue', 'ou', 'procedant', 'las', 'devant', 'etait', 'effet', 'couic', 'oh', 'aie', 'compris', 'sauf', 'divers', 's’', 'o', 'suis', 'parlent', 'mienne', 'tous', 'plus', 'via', 'proche', 'bat', 'très', 'maintenant', 'différents', 'eu', 'oust', 'te', 'quand', 'plusieurs', 'toc', 'auraient', 'absolument', 'derniere', 'faisaient', 'possibles', 'probable', 'relative', 'pan', 'houp', 'pres', 'aupres', 'fait', 'surtout', 'tente', 'comparable', 'quelle', 'cinquantaine', 'sans', 'tant', 'nombreuses', 'tenant', 'vôtre', 'onze', 'voici', 'me', 'ollé', 'vas', \"n'\", 'tels', 'peuvent', 'moi', 'differentes', 'seize', 'soixante', 'egales', 'elles-mêmes', 'suivre', 'quanta', 'necessairement', 'plouf', 'hep', 'pif', 'deja', 'bigre', 'en', \"m'\", 'encore', 'c’', 'quant', 'as', 'ô', 'lui-même', 'nos', 'douzième', 'lui', 'derrière', 'depuis', 'devra', 'nul', 'ton', 'tend', 'ne', 'avant', 'ceci', 'dès', 'pouvait', 'eh', 'nouveau', 'trop', 'dehors', \"d'\", 'vif', 'vingt', 'dite', 'tsoin', 'crac', 'quelconque', 'd’', 'clic', 'façon', 'naturelle', 'auront', 'm’', 'son', 'là', 'celle-là', 'enfin', 'uns', 'certain', 'dessous', 'ceux-là', 'de', 'différentes', 'peut', 'mais', 'possible', 'quoique', 'mien', 'pas', 'egale', 'hop', 'ils', 'une', 'afin', 'ça', 'est', 'celle-ci', 'semblaient', 'aura', 'pense', 'psitt', 'aurait', 'lesquels', 'moins', 'hurrah', 'feront', 'ouste', 'cher', 'avait', 'moi-même', 'suffisant', 'fi', 'chiche', 'pourrais', 'hum', 'leurs', 'quiconque', 'allaient', 'nôtres', 'particulièrement', 'étaient', 'superpose', 'tac', 'sur', 'celles', 'j’', 'egalement', 'tel', 'pourrait', 'tic', 'ah', 'mêmes', 'toutefois', 'maximale', 'meme', 'lequel', 'laisser', 'votre', 'dix-neuf', 'près', 'duquel', 'celles-ci', 'olé', 'tres', 'elles', 'autres', 'vlan', 'seule', 'la', 'tsouin', 'neanmoins', 'dans', 'anterieure', 'etc', 'debout', 'hou', 'pfut', 'comme', 'va', 'vive', 'uniques', 'semble', 'cette', 'allô', 'etre', 'holà', 'ouf', 'étais', 'diverse', 'quarante', 'leur', 'ces', 'pu', 'miens', 'bah', 'es', 'quatrième', 'ai', 'malgré', 'rare', 'eux-mêmes', 'ha', 'dix', 'miennes', 'particulier', 'tellement', 'sinon', 'lès', 'certains', 'exterieur', 'devers', 'minimale', 'chacun', 'avons', 'différente', 'telles', 'tes', 'etais', 'da', 'toutes', 'parseme', \"aujourd'hui\", 'paf', 'touchant', 'durant', 'rendre', 'pourquoi', 'extenso', 'troisièmement', 'désormais', 'nombreux', 'parler', 'subtiles', 'precisement', 'différent', 'doivent', 'ma', 'l’', 'ceux', 'treize', \"s'\", 'quatre-vingt', 'aux', 'auxquelles', 'hormis', 'necessaire', 'autre', 'était', 'deuxième', 'neuvième', 'celui-là', 'chères', 'mes', 'telle', 'â', 'bien', 'beau', 'mon', 'vu', 'tenir', 'six', 'moindres', 'desormais', 'du', 'restrictif', 'premier', 'retour', 'par', 'seraient', 'bas', 'deuxièmement', 'permet', 'diverses', 'stop', 'anterieures', 'pur', 'cinquième', 'seul', 'les', 'plein', 'specifiques', 'celle', 'seulement', \"j'\", 'ainsi', 'sait', 'des', 'ho', 'quatrièmement', 'vont', 'huit', 'faisant', 'vais', 'siennes', 'cependant', 'pire', 'sien', 'certes', 'moyennant', 'hors', 'tu', 'aussi', 'être', 'aucune', 'elle-même', 'revoici', 'té', \"quelqu'un\", 'sept', 'remarquable', 'restant', 'partant', 'quels', 'allons', 'aujourd', 'n’', 'rarement', 'selon', 'naturel', 'different', \"qu'\", 'differents', 'specifique', 'rien', 'chez', 'je', 'voilà', 'chut', 'anterieur', 'naturelles', 'vé', 'beaucoup', 'nous-mêmes', 'nous', 'i', 'toujours', 'brrr', 'basee', 'merci', 'euh', 'notre', 'memes', 'dont', 'à', 'quelque', 'elle', 'cinquantième', 'sera', 'ohé', 'autrement', 'suffisante', 'possessif', 'sa', 'juste', 'maint', 'alors', 'etant', 'avais', 'cent', 'pure', 'celui-ci', 'combien', 'se', 'directe', 'rend', 'donc', 'quinze', 'le', 'première', 'apres', 'étant', 'troisième', 'ayant', 'dix-sept', 'tiennes', 'ni', 'longtemps', 'vous-mêmes', 'ouverts', 'dits', 'allo', 'chers', 'ce', 'puisque', 'sacrebleu', 'doit', 'peu', 'lui-meme', 'flac', 'particulière', 'passé', 'tien'}\n"
          ]
        }
      ]
    },
    {
      "cell_type": "code",
      "metadata": {
        "colab": {
          "base_uri": "https://localhost:8080/"
        },
        "id": "9Shxg_vN3Oak",
        "outputId": "7335e90f-28b0-4774-b238-7824f63f40b1"
      },
      "source": [
        "def split_into_tokens_wosw_spacy(text):\n",
        "    doc = spacy_pipeline_with_lemmas(text)\n",
        "    return [t.text for t in doc if not t.is_stop]\n",
        "\n",
        "spacy_lemmas_stopwords = df['Description'].apply(split_into_tokens_wosw_spacy)\n",
        "print(spacy_lemmas_stopwords)"
      ],
      "execution_count": 38,
      "outputs": [
        {
          "output_type": "stream",
          "name": "stdout",
          "text": [
            "0                                                                                                                                                                [ , Aryan, Papers, ,, projet, Stanley, Kubrick, travaillé, années, ,, ,, époque, ,, abandonné, ., ,, Ang, Lee, remettre, actualité, projet, ., ,, Kubrick, accordé, Warner, Bros, ., abandon, projet,  , :, Liste, Schindler, ,, Steven, Spielberg, (, ), ,, venait, sortir, ,, films, traitaient, sujet,  , :, Holocauste, ., documents, recherches, Kubrick, préparé, tournage, dévoilés,  , Festival, film, Édimbourg, ., ,, présente, Festival, ,, famille, cinéaste, représenté, Jan, Harlan, exprimé, souhait, voir, réaliser, projet, inachevé, ,, évoquant, nom, Ang, Lee, côté, réalisation, ., Aryan, Papers, adaptation, nouvelle, Louis, Begley, ,, War, Time, Lies, (, parue, France, nom, éducation, polonaise, ...]\n",
            "1                                                                                          [ ,  , ans, création, ,, quotidien, britannique, The, Independent, cesser, imprimé, ,, annoncé, propriétaire, Evgeny, Lebedev, ., journal, tire,   , exemplaires, quotidiennement, ,, journal, national, distribué, RoyaumUni,  , ;, publiera, dernière, édition,   , titre, continuer, exister, ,,  , uniquement, internet, ., centaine, journalistes, (, moitié, rédaction, ), devraient, perdre, emploi, ,, tandis,  , embauches, devront, renforcer, site, ., —,  , Evgeny, Lebedev, ,, propriétaire, The, Independent, oligarque, russe, détient, journal, veut, mettre, fin, crise, secoue, titre, ,, diffusion, divisée, ans, ., inverse, ,, présence, marque, internet, importante, ,,  , faire, face, manque, rentabilité, publicité, numérique, (, contenus, ligne, totalement, gratuits, ...]\n",
            "2                                                                                                                                                                                                                                                                                                                                                                                                                                                                                                                                                                                                                                                                                                                                                   [WIKINEWSMédias, source, informationsque, pouvez, écrire,  , samedi,   , :, (, UTC),Wikinews, Médias, compte,  , articles, ., Actualiser, page]\n",
            "3                                                                                                                                                                                                                                                                                                         [ , journée, ,, instaurée, UNESCO, thème, «,  , médias, bonne, gouvernance,  , », ., conférence, organisée, Dakar,  ,  , ., message, ,, directeur, général, UNESCO, Koïchiro, Matsuura, ,, ,, rappelé, article,  , Déclaration, Universelle, Droits, Homme,  , :, «,  , individu, droit, liberté, opinion, expression, ,, implique, droit, inquiété, opinions, chercher, ,, recevoir, répandre, ,, considérations, frontières, ,, informations, idées, moyen, expression,  , », ,, «,  , …, bonne, gouvernance, pâtir, corruption, ,, perturbe, libre, circulation, information, …,  , »]\n",
            "4                                                                                                                        [ , rapport, expert, indépendant, relance, polémique, mort, jeune, Mohamed, Al, Dura, événements, ., faits, remontent, ,, confrontation, Palestiniens, poste, surveillance, israëlien, bande, Gaza, ,, carrefour, Netzarim, .,  , ,, France,  , diffusé, reportage, minute, présentant, mort, balle, jeune, Mohamed, feu, nourri, Israêliens, ., Talal, Abou, Rhama, ,, journaliste, chaîne, publique, présent, lieux, ,, père, ,, Jamal, ,, blessé, bras, droit, ,, ventre, membres, inférieurs, ., intéressé, ,, enfant, saigné,  ,  , minutes, décéder, place, ., France,  , média, filmé, mort, enfant, différence, caméramen, présents, place, ., images, diffusées, provoqué, émoi, communauté, internationale, ,, mettant, Jérusalem, embarras, .,  , vite, ,, ...]\n",
            "                                                                                                                                                                                                                                                                                                                                                                                                                                                   ...                                                                                                                                                                                                                                                                                                                                                                                                                                             \n",
            "3588    [  , Conseil, État, vient, censurer, vice, forme, arrêté,   , ministre, État, ,, ministre, intérieur, aménagement, territoire, relatif, informatisation, procédure, éloignement, création, traitement, données, caractère, personnel, ministère, intérieur, ., texte, permettait, créer, fichier, informatique, ,, baptisé, ELOI, ,, recense, étrangers, membres, Union, européenne, ,, soient, situation, irrégulière, ., support, devait, comporter, empreintes, digitales, photographie, intéressés, ., fichier, destiné, lutter, immigration, clandestine, ., Saisi, associations, ,, GISTI, SOS, Racisme, ,, Syndicat, magistrature, ,, Conseil, État, devait, prononcer, légalité, texte, ., rejeté, requête, Syndicat, magistrature, ,, intérêt, demander, annulation, texte, ,, Haute, juridicition, statué, moyen, ordre, public, relevé, office, ., relevé, loi, permettait, ...]\n",
            "3589                                                                                        [ , Conseil, État, vient, rejeter, requête, tendant, annulation, «,   , décision, implicite, rejet, résultant, silence, gardé, mois, Conseil, supérieur, audiovisuel, (, CSA, ), demandes, adressées,  ,   , tendant, étude, vérification, reportage, présentant, mort, enfant, palestinien, bras, père, Gaza, ,, diffusé, France,  ,   , journal,  , heures,  , », ., demande, éma, société, MediRatings, déclarée, agence, notation, médias, ., affaire, tire, origine, diffusion, France, ,, vidéo, filmant, mort, enfant, palestinien, balles, israëliennes, père, blessé, balles, ., agence, information, israëlienne, présenté, reportage, faux, diffusé, chaîne, publique, française, ,, relayé, société, MediRatings, ., ,, journal, américain, ,, The, Wall, Street, Journal, dénoncé, «, ...]\n",
            "3590                                                                                            [ , Daniel, Duquenne, ,, e, HéniBeaumont, ,, déclaré, inéligible, Conseil, État, arrêt, rendu, hier, ., élection, M., Duquenne, lieu, ,, an, ,, mouchoir, poche, liste, défendue, Front, national, menée, Steeve, Briois, Marine, Pen, ., Estimant, scrutin, irrégulier, ,, M., Briois, saisi, tribunal, administratif, Lille, requêtes,  , :, annulation, scrutin, inéligibilité, M., Duquenne, ,, rejeté, premiers, juges, ., formé, appel, jugement, ,, Conseil, État, accueilli, partiellement, demande, ., ensemble, moyens, soulevés, annuler, scrutin, rejetés, ,, éligibilité, magistrat, HéniBeaumont, ., Contrairement, juridiction, lilloise, ,, Conseil, retient, griefs, soulevés, candidat, frontiste, ., Haute, juridiction, ,,  , «,  , résulte, instruction, M., Duquenne, ,, ...]\n",
            "3591                                                                           [  , décision, rendue,  , ,, Conseil, État, vient, enjoindre, ministre, mettre, conformité, loi, décret, exécution, décisions, justice, condamnant, État, personnes, publiques, ., affaire, tire, source, adoption, Parlement, article,  , loi, n°,  , ., texte, réduit, mois, délais, ordonnancement, sommes, État, personnes, publiques, condamnés, décision, justice, ., délais, ordonnancement, dépense, ramenés,  , mois,  , mois, ,, cas, sommes, importantes, ,,  , mois,  , mois, ., requérant, obtenu, justice, condamnation, État, paiement, sommes, ,, aperçu, décret, application,  , ,, modifié, conséquence, ,, conservant, anciens, délais, ., application, jurisprudence, Alitalia, [, ], ,, demandé, ministre, mettre, conformité, décret, question, nouvelles, dispositions, législatives, ., ...]\n",
            "3592                                                                                                              [ , Conseil, État, vient, censurer, décisions, CNIL, refusant, «,  , mettre, œuvre, traitement, données, caractère, personnel, finalités, ,, part, ,, constatation, délits, contrefaçon, commis, intermédiaire, réseaux, échange, fichiers, dénommés, peer, to, peer, ,, part, ,, envoi, messages, pédagogiques, informant, internautes, sanctions, prévues, matière, délit, contrefaçon,  , », ., sociétés, liées, auteurs, ,,  , majors, distribution, musique, ,, demandé, Haute, Juridiction, annuler, refus, ., agit, SACEM, [, ], ,, SDRM, [, ], ,, SCPP, [, ], SPPF[]., Conseil, État, donné, satisfaction, annulant, décisions, question, ., fonde, décision, «,  , centaines, millions, fichiers, échanges, illégaux, titres, musicaux,  , », lieu, cadre, réseaux, ...]\n",
            "Name: Description, Length: 3593, dtype: object\n"
          ]
        }
      ]
    },
    {
      "cell_type": "code",
      "metadata": {
        "id": "8sv0LLhd3-Sk"
      },
      "source": [
        "df.insert(3,\"clean_text\",spacy_lemmas_stopwords)"
      ],
      "execution_count": 39,
      "outputs": []
    },
    {
      "cell_type": "code",
      "source": [
        "df[\"clean_text\"]"
      ],
      "metadata": {
        "colab": {
          "base_uri": "https://localhost:8080/"
        },
        "id": "Fh-Z6-IN7P2v",
        "outputId": "0157b24f-d17d-4b8a-a247-be150e2d9af2"
      },
      "execution_count": 40,
      "outputs": [
        {
          "output_type": "execute_result",
          "data": {
            "text/plain": [
              "0                                                                                                                                                                [ , Aryan, Papers, ,, projet, Stanley, Kubrick, travaillé, années, ,, ,, époque, ,, abandonné, ., ,, Ang, Lee, remettre, actualité, projet, ., ,, Kubrick, accordé, Warner, Bros, ., abandon, projet,  , :, Liste, Schindler, ,, Steven, Spielberg, (, ), ,, venait, sortir, ,, films, traitaient, sujet,  , :, Holocauste, ., documents, recherches, Kubrick, préparé, tournage, dévoilés,  , Festival, film, Édimbourg, ., ,, présente, Festival, ,, famille, cinéaste, représenté, Jan, Harlan, exprimé, souhait, voir, réaliser, projet, inachevé, ,, évoquant, nom, Ang, Lee, côté, réalisation, ., Aryan, Papers, adaptation, nouvelle, Louis, Begley, ,, War, Time, Lies, (, parue, France, nom, éducation, polonaise, ...]\n",
              "1                                                                                          [ ,  , ans, création, ,, quotidien, britannique, The, Independent, cesser, imprimé, ,, annoncé, propriétaire, Evgeny, Lebedev, ., journal, tire,   , exemplaires, quotidiennement, ,, journal, national, distribué, RoyaumUni,  , ;, publiera, dernière, édition,   , titre, continuer, exister, ,,  , uniquement, internet, ., centaine, journalistes, (, moitié, rédaction, ), devraient, perdre, emploi, ,, tandis,  , embauches, devront, renforcer, site, ., —,  , Evgeny, Lebedev, ,, propriétaire, The, Independent, oligarque, russe, détient, journal, veut, mettre, fin, crise, secoue, titre, ,, diffusion, divisée, ans, ., inverse, ,, présence, marque, internet, importante, ,,  , faire, face, manque, rentabilité, publicité, numérique, (, contenus, ligne, totalement, gratuits, ...]\n",
              "2                                                                                                                                                                                                                                                                                                                                                                                                                                                                                                                                                                                                                                                                                                                                                   [WIKINEWSMédias, source, informationsque, pouvez, écrire,  , samedi,   , :, (, UTC),Wikinews, Médias, compte,  , articles, ., Actualiser, page]\n",
              "3                                                                                                                                                                                                                                                                                                         [ , journée, ,, instaurée, UNESCO, thème, «,  , médias, bonne, gouvernance,  , », ., conférence, organisée, Dakar,  ,  , ., message, ,, directeur, général, UNESCO, Koïchiro, Matsuura, ,, ,, rappelé, article,  , Déclaration, Universelle, Droits, Homme,  , :, «,  , individu, droit, liberté, opinion, expression, ,, implique, droit, inquiété, opinions, chercher, ,, recevoir, répandre, ,, considérations, frontières, ,, informations, idées, moyen, expression,  , », ,, «,  , …, bonne, gouvernance, pâtir, corruption, ,, perturbe, libre, circulation, information, …,  , »]\n",
              "4                                                                                                                        [ , rapport, expert, indépendant, relance, polémique, mort, jeune, Mohamed, Al, Dura, événements, ., faits, remontent, ,, confrontation, Palestiniens, poste, surveillance, israëlien, bande, Gaza, ,, carrefour, Netzarim, .,  , ,, France,  , diffusé, reportage, minute, présentant, mort, balle, jeune, Mohamed, feu, nourri, Israêliens, ., Talal, Abou, Rhama, ,, journaliste, chaîne, publique, présent, lieux, ,, père, ,, Jamal, ,, blessé, bras, droit, ,, ventre, membres, inférieurs, ., intéressé, ,, enfant, saigné,  ,  , minutes, décéder, place, ., France,  , média, filmé, mort, enfant, différence, caméramen, présents, place, ., images, diffusées, provoqué, émoi, communauté, internationale, ,, mettant, Jérusalem, embarras, .,  , vite, ,, ...]\n",
              "                                                                                                                                                                                                                                                                                                                                                                                                                                                   ...                                                                                                                                                                                                                                                                                                                                                                                                                                             \n",
              "3588    [  , Conseil, État, vient, censurer, vice, forme, arrêté,   , ministre, État, ,, ministre, intérieur, aménagement, territoire, relatif, informatisation, procédure, éloignement, création, traitement, données, caractère, personnel, ministère, intérieur, ., texte, permettait, créer, fichier, informatique, ,, baptisé, ELOI, ,, recense, étrangers, membres, Union, européenne, ,, soient, situation, irrégulière, ., support, devait, comporter, empreintes, digitales, photographie, intéressés, ., fichier, destiné, lutter, immigration, clandestine, ., Saisi, associations, ,, GISTI, SOS, Racisme, ,, Syndicat, magistrature, ,, Conseil, État, devait, prononcer, légalité, texte, ., rejeté, requête, Syndicat, magistrature, ,, intérêt, demander, annulation, texte, ,, Haute, juridicition, statué, moyen, ordre, public, relevé, office, ., relevé, loi, permettait, ...]\n",
              "3589                                                                                        [ , Conseil, État, vient, rejeter, requête, tendant, annulation, «,   , décision, implicite, rejet, résultant, silence, gardé, mois, Conseil, supérieur, audiovisuel, (, CSA, ), demandes, adressées,  ,   , tendant, étude, vérification, reportage, présentant, mort, enfant, palestinien, bras, père, Gaza, ,, diffusé, France,  ,   , journal,  , heures,  , », ., demande, éma, société, MediRatings, déclarée, agence, notation, médias, ., affaire, tire, origine, diffusion, France, ,, vidéo, filmant, mort, enfant, palestinien, balles, israëliennes, père, blessé, balles, ., agence, information, israëlienne, présenté, reportage, faux, diffusé, chaîne, publique, française, ,, relayé, société, MediRatings, ., ,, journal, américain, ,, The, Wall, Street, Journal, dénoncé, «, ...]\n",
              "3590                                                                                            [ , Daniel, Duquenne, ,, e, HéniBeaumont, ,, déclaré, inéligible, Conseil, État, arrêt, rendu, hier, ., élection, M., Duquenne, lieu, ,, an, ,, mouchoir, poche, liste, défendue, Front, national, menée, Steeve, Briois, Marine, Pen, ., Estimant, scrutin, irrégulier, ,, M., Briois, saisi, tribunal, administratif, Lille, requêtes,  , :, annulation, scrutin, inéligibilité, M., Duquenne, ,, rejeté, premiers, juges, ., formé, appel, jugement, ,, Conseil, État, accueilli, partiellement, demande, ., ensemble, moyens, soulevés, annuler, scrutin, rejetés, ,, éligibilité, magistrat, HéniBeaumont, ., Contrairement, juridiction, lilloise, ,, Conseil, retient, griefs, soulevés, candidat, frontiste, ., Haute, juridiction, ,,  , «,  , résulte, instruction, M., Duquenne, ,, ...]\n",
              "3591                                                                           [  , décision, rendue,  , ,, Conseil, État, vient, enjoindre, ministre, mettre, conformité, loi, décret, exécution, décisions, justice, condamnant, État, personnes, publiques, ., affaire, tire, source, adoption, Parlement, article,  , loi, n°,  , ., texte, réduit, mois, délais, ordonnancement, sommes, État, personnes, publiques, condamnés, décision, justice, ., délais, ordonnancement, dépense, ramenés,  , mois,  , mois, ,, cas, sommes, importantes, ,,  , mois,  , mois, ., requérant, obtenu, justice, condamnation, État, paiement, sommes, ,, aperçu, décret, application,  , ,, modifié, conséquence, ,, conservant, anciens, délais, ., application, jurisprudence, Alitalia, [, ], ,, demandé, ministre, mettre, conformité, décret, question, nouvelles, dispositions, législatives, ., ...]\n",
              "3592                                                                                                              [ , Conseil, État, vient, censurer, décisions, CNIL, refusant, «,  , mettre, œuvre, traitement, données, caractère, personnel, finalités, ,, part, ,, constatation, délits, contrefaçon, commis, intermédiaire, réseaux, échange, fichiers, dénommés, peer, to, peer, ,, part, ,, envoi, messages, pédagogiques, informant, internautes, sanctions, prévues, matière, délit, contrefaçon,  , », ., sociétés, liées, auteurs, ,,  , majors, distribution, musique, ,, demandé, Haute, Juridiction, annuler, refus, ., agit, SACEM, [, ], ,, SDRM, [, ], ,, SCPP, [, ], SPPF[]., Conseil, État, donné, satisfaction, annulant, décisions, question, ., fonde, décision, «,  , centaines, millions, fichiers, échanges, illégaux, titres, musicaux,  , », lieu, cadre, réseaux, ...]\n",
              "Name: clean_text, Length: 3593, dtype: object"
            ]
          },
          "metadata": {},
          "execution_count": 40
        }
      ]
    },
    {
      "cell_type": "code",
      "source": [
        "df.head(4)"
      ],
      "metadata": {
        "colab": {
          "base_uri": "https://localhost:8080/",
          "height": 1000
        },
        "id": "PcJI-KYZ7oun",
        "outputId": "8a28e5ea-e0ab-4381-db6d-4683f6358ba4"
      },
      "execution_count": 41,
      "outputs": [
        {
          "output_type": "execute_result",
          "data": {
            "text/html": [
              "<div>\n",
              "<style scoped>\n",
              "    .dataframe tbody tr th:only-of-type {\n",
              "        vertical-align: middle;\n",
              "    }\n",
              "\n",
              "    .dataframe tbody tr th {\n",
              "        vertical-align: top;\n",
              "    }\n",
              "\n",
              "    .dataframe thead th {\n",
              "        text-align: right;\n",
              "    }\n",
              "</style>\n",
              "<table border=\"1\" class=\"dataframe\">\n",
              "  <thead>\n",
              "    <tr style=\"text-align: right;\">\n",
              "      <th></th>\n",
              "      <th>Description</th>\n",
              "      <th>Categorie</th>\n",
              "      <th>Lien</th>\n",
              "      <th>clean_text</th>\n",
              "    </tr>\n",
              "  </thead>\n",
              "  <tbody>\n",
              "    <tr>\n",
              "      <th>0</th>\n",
              "      <td>Aryan Papers, projet sur lequel Stanley Kubrick avait travaillé durant plusieurs années, avait, à l'époque, été abandonné. Aujourd'hui, Ang Lee pourrait remettre d'actualité ce projet. En effet, Kubrick s'était accordé avec la Warner Bros. lors de l'abandon du projet : La Liste de Schindler, de Steven Spielberg (), venait de sortir, et les deux films traitaient du même sujet : l'Holocauste. Tous les documents et recherches que Kubrick avait préparé pour le tournage ont été dévoilés au  Festival du film d'Édimbourg. Et, présente durant le Festival, la famille du cinéaste représenté par Jan Harlan a exprimé le souhait de voir enfin réaliser le projet inachevé, évoquant par ailleurs le nom d'Ang Lee du côté de la réalisation. Aryan Papers est l'adaptation de la nouvelle de Louis Begley, War Time Lies (parue en France sous le nom Une éducation polonaise). L'histoire relation l'enfance d'un juif qui vécu caché à Varsovie, ville occupée par les Nazis. Stanley Kubrick devait débuter le tournage dans le début des années , néanmoins, en tant que cinéaste perfectionniste, il fut retardé par sa recherche d'informations. De plus, le film lui tenait à cœur, puisqu'il était lumême d'origines juives d'Europe Centrale. Jan Harlan a ainsi déclaré, pendant le Festival : « Je regrette qu'il n'ait ja été fait  c'était une décision qui appartenait à Stanley et à Warner Bros. Une décision probablement très juste à l'époque ». La Warner est toujours détentrice des droits,  s'est refusé à confirmer ou infirmer l'avenir du projet.</td>\n",
              "      <td>science_culture</td>\n",
              "      <td>https://fr.wikinews.org/wiki/%C2%AB_Aryan_Papers_%C2%BB,_le_projet_de_Stanley_Kubrick_de_nouveau_d%27actualit%C3%A9_%3F</td>\n",
              "      <td>[ , Aryan, Papers, ,, projet, Stanley, Kubrick, travaillé, années, ,, ,, époque, ,, abandonné, ., ,, Ang, Lee, remettre, actualité, projet, ., ,, Kubrick, accordé, Warner, Bros, ., abandon, projet,  , :, Liste, Schindler, ,, Steven, Spielberg, (, ), ,, venait, sortir, ,, films, traitaient, sujet,  , :, Holocauste, ., documents, recherches, Kubrick, préparé, tournage, dévoilés,  , Festival, film, Édimbourg, ., ,, présente, Festival, ,, famille, cinéaste, représenté, Jan, Harlan, exprimé, souhait, voir, réaliser, projet, inachevé, ,, évoquant, nom, Ang, Lee, côté, réalisation, ., Aryan, Papers, adaptation, nouvelle, Louis, Begley, ,, War, Time, Lies, (, parue, France, nom, éducation, polonaise, ...]</td>\n",
              "    </tr>\n",
              "    <tr>\n",
              "      <th>1</th>\n",
              "      <td>Près de  ans après sa création, le quotidien britannique The Independent va cesser d'être imprimé, a annoncé son propriétaire Evgeny Lebedev. Le journal ne tire qu'à   exemplaires quotidiennement, ce qui en fait le journal national le moins distribué au RoyaumUni ; il publiera sa dernière édition le   Le titre va continuer à exister,  uniquement sur internet. Une centaine de journalistes (soit plus de la moitié de la rédaction) devraient perdre leur emploi, tandis que  embauches devront renforcer le site. — Evgeny Lebedev, propriétaire de The Independent L'oligarque russe qui détient le journal veut mettre fin à la crise qui secoue le titre, dont la diffusion a été divisée par trois en cinq ans. À l'inverse, la présence de la marque sur internet est importante,  doit faire face au manque de rentabilité de la publicité numérique (ses contenus en ligne sont totalement gratuits). Certains journalistes du quotidien déplorent que cette présence numérique se fasse au dépend de la qualité. Lorsqu'il avait racheté The Independent en , E. Lebedev avait lancé i, une version condensée du titre principal vendu pour seulement  centimes, tout en proposant un contenu aussi sérieux. Ce titre à bas prix vend aujourd'hui   exemplaires par jours, devançant ainsi The Guardian et The Financial Times au RoyaumUni. i dégagé un bénéfice opérationnel de , millions de livres (, millions d'euros),  le propriétaire a décidé de le vendre vendredi dernier, laissant The Independent seul face à son sort. The Independent est le premier quotidien britannique à cesser son édition papier,  ce choix a déjà été fait par plusieurs publications à travers le monde. Face à la chute des ventes au numéro de la presse anglaise, il est probable que son exemple soit suivi par d'autres publications dans les années à venir.   Partager cet article :,,,,,,,,</td>\n",
              "      <td>science_culture</td>\n",
              "      <td>https://fr.wikinews.org/wiki/%C2%AB_The_Independent_%C2%BB_va_cesser_ses_%C3%A9ditions_papiers</td>\n",
              "      <td>[ ,  , ans, création, ,, quotidien, britannique, The, Independent, cesser, imprimé, ,, annoncé, propriétaire, Evgeny, Lebedev, ., journal, tire,   , exemplaires, quotidiennement, ,, journal, national, distribué, RoyaumUni,  , ;, publiera, dernière, édition,   , titre, continuer, exister, ,,  , uniquement, internet, ., centaine, journalistes, (, moitié, rédaction, ), devraient, perdre, emploi, ,, tandis,  , embauches, devront, renforcer, site, ., —,  , Evgeny, Lebedev, ,, propriétaire, The, Independent, oligarque, russe, détient, journal, veut, mettre, fin, crise, secoue, titre, ,, diffusion, divisée, ans, ., inverse, ,, présence, marque, internet, importante, ,,  , faire, face, manque, rentabilité, publicité, numérique, (, contenus, ligne, totalement, gratuits, ...]</td>\n",
              "    </tr>\n",
              "    <tr>\n",
              "      <th>2</th>\n",
              "      <td>WIKINEWSMédias La source d'informationsque vous pouvez écrire Ce  samedi   à : (UTC),Wikinews Médias compte  articles. Actualiser la page</td>\n",
              "      <td>science_culture</td>\n",
              "      <td>https://fr.wikinews.org/wiki/Page:M%C3%A9dias</td>\n",
              "      <td>[WIKINEWSMédias, source, informationsque, pouvez, écrire,  , samedi,   , :, (, UTC),Wikinews, Médias, compte,  , articles, ., Actualiser, page]</td>\n",
              "    </tr>\n",
              "    <tr>\n",
              "      <th>3</th>\n",
              "      <td>Cette journée, instaurée par l'UNESCO aura pour thème des « médias et de la bonne gouvernance ». Une conférence est organisée à Dakar du  au  . Dans un message, le directeur général de l'UNESCO Koïchiro Matsuura a, entre autres, rappelé l'article  de la Déclaration Universelle des Droits de L'Homme : « Tout individu a droit à la liberté d'opinion et d'expression, ce qui implique le droit de ne pas être inquiété pour ses opinions et celui de chercher, de recevoir et de répandre, sans considérations de frontières, les informations et les idées par quelque moyen d'expression que ce soit », et que « …La bonne gouvernance peut pâtir de la corruption, qui perturbe la libre circulation de l'information… »</td>\n",
              "      <td>science_culture</td>\n",
              "      <td>https://fr.wikinews.org/wiki/15e_Journ%C3%A9e_internationale_de_la_libert%C3%A9_de_la_presse</td>\n",
              "      <td>[ , journée, ,, instaurée, UNESCO, thème, «,  , médias, bonne, gouvernance,  , », ., conférence, organisée, Dakar,  ,  , ., message, ,, directeur, général, UNESCO, Koïchiro, Matsuura, ,, ,, rappelé, article,  , Déclaration, Universelle, Droits, Homme,  , :, «,  , individu, droit, liberté, opinion, expression, ,, implique, droit, inquiété, opinions, chercher, ,, recevoir, répandre, ,, considérations, frontières, ,, informations, idées, moyen, expression,  , », ,, «,  , …, bonne, gouvernance, pâtir, corruption, ,, perturbe, libre, circulation, information, …,  , »]</td>\n",
              "    </tr>\n",
              "  </tbody>\n",
              "</table>\n",
              "</div>"
            ],
            "text/plain": [
              "                                                                                                                                                                                                                                                                                                                                                                                                                                                                                                                                                                                                                                                                                                                                                                                                                                                                                                                                                                                                                                                                                                                                                                                                                                                                                                                                                                                                                                                                                                                                                                                                                                                                                                                                                                                                                                                                                                        Description  ...                                                                                                                                                                                                                                                                                                                                                                                                                                                                                                                                                                                                                                                                                                                                                                                                clean_text\n",
              "0                                                                                                                                                                                                                                                                                                                       Aryan Papers, projet sur lequel Stanley Kubrick avait travaillé durant plusieurs années, avait, à l'époque, été abandonné. Aujourd'hui, Ang Lee pourrait remettre d'actualité ce projet. En effet, Kubrick s'était accordé avec la Warner Bros. lors de l'abandon du projet : La Liste de Schindler, de Steven Spielberg (), venait de sortir, et les deux films traitaient du même sujet : l'Holocauste. Tous les documents et recherches que Kubrick avait préparé pour le tournage ont été dévoilés au  Festival du film d'Édimbourg. Et, présente durant le Festival, la famille du cinéaste représenté par Jan Harlan a exprimé le souhait de voir enfin réaliser le projet inachevé, évoquant par ailleurs le nom d'Ang Lee du côté de la réalisation. Aryan Papers est l'adaptation de la nouvelle de Louis Begley, War Time Lies (parue en France sous le nom Une éducation polonaise). L'histoire relation l'enfance d'un juif qui vécu caché à Varsovie, ville occupée par les Nazis. Stanley Kubrick devait débuter le tournage dans le début des années , néanmoins, en tant que cinéaste perfectionniste, il fut retardé par sa recherche d'informations. De plus, le film lui tenait à cœur, puisqu'il était lumême d'origines juives d'Europe Centrale. Jan Harlan a ainsi déclaré, pendant le Festival : « Je regrette qu'il n'ait ja été fait  c'était une décision qui appartenait à Stanley et à Warner Bros. Une décision probablement très juste à l'époque ». La Warner est toujours détentrice des droits,  s'est refusé à confirmer ou infirmer l'avenir du projet.  ...                                                                        [ , Aryan, Papers, ,, projet, Stanley, Kubrick, travaillé, années, ,, ,, époque, ,, abandonné, ., ,, Ang, Lee, remettre, actualité, projet, ., ,, Kubrick, accordé, Warner, Bros, ., abandon, projet,  , :, Liste, Schindler, ,, Steven, Spielberg, (, ), ,, venait, sortir, ,, films, traitaient, sujet,  , :, Holocauste, ., documents, recherches, Kubrick, préparé, tournage, dévoilés,  , Festival, film, Édimbourg, ., ,, présente, Festival, ,, famille, cinéaste, représenté, Jan, Harlan, exprimé, souhait, voir, réaliser, projet, inachevé, ,, évoquant, nom, Ang, Lee, côté, réalisation, ., Aryan, Papers, adaptation, nouvelle, Louis, Begley, ,, War, Time, Lies, (, parue, France, nom, éducation, polonaise, ...]\n",
              "1   Près de  ans après sa création, le quotidien britannique The Independent va cesser d'être imprimé, a annoncé son propriétaire Evgeny Lebedev. Le journal ne tire qu'à   exemplaires quotidiennement, ce qui en fait le journal national le moins distribué au RoyaumUni ; il publiera sa dernière édition le   Le titre va continuer à exister,  uniquement sur internet. Une centaine de journalistes (soit plus de la moitié de la rédaction) devraient perdre leur emploi, tandis que  embauches devront renforcer le site. — Evgeny Lebedev, propriétaire de The Independent L'oligarque russe qui détient le journal veut mettre fin à la crise qui secoue le titre, dont la diffusion a été divisée par trois en cinq ans. À l'inverse, la présence de la marque sur internet est importante,  doit faire face au manque de rentabilité de la publicité numérique (ses contenus en ligne sont totalement gratuits). Certains journalistes du quotidien déplorent que cette présence numérique se fasse au dépend de la qualité. Lorsqu'il avait racheté The Independent en , E. Lebedev avait lancé i, une version condensée du titre principal vendu pour seulement  centimes, tout en proposant un contenu aussi sérieux. Ce titre à bas prix vend aujourd'hui   exemplaires par jours, devançant ainsi The Guardian et The Financial Times au RoyaumUni. i dégagé un bénéfice opérationnel de , millions de livres (, millions d'euros),  le propriétaire a décidé de le vendre vendredi dernier, laissant The Independent seul face à son sort. The Independent est le premier quotidien britannique à cesser son édition papier,  ce choix a déjà été fait par plusieurs publications à travers le monde. Face à la chute des ventes au numéro de la presse anglaise, il est probable que son exemple soit suivi par d'autres publications dans les années à venir.   Partager cet article :,,,,,,,,  ...  [ ,  , ans, création, ,, quotidien, britannique, The, Independent, cesser, imprimé, ,, annoncé, propriétaire, Evgeny, Lebedev, ., journal, tire,   , exemplaires, quotidiennement, ,, journal, national, distribué, RoyaumUni,  , ;, publiera, dernière, édition,   , titre, continuer, exister, ,,  , uniquement, internet, ., centaine, journalistes, (, moitié, rédaction, ), devraient, perdre, emploi, ,, tandis,  , embauches, devront, renforcer, site, ., —,  , Evgeny, Lebedev, ,, propriétaire, The, Independent, oligarque, russe, détient, journal, veut, mettre, fin, crise, secoue, titre, ,, diffusion, divisée, ans, ., inverse, ,, présence, marque, internet, importante, ,,  , faire, face, manque, rentabilité, publicité, numérique, (, contenus, ligne, totalement, gratuits, ...]\n",
              "2                                                                                                                                                                                                                                                                                                                                                                                                                                                                                                                                                                                                                                                                                                                                                                                                                                                                                                                                                                                                                                                                                                                                                                                                                                                                                                                                                                                                                                                                                                                                                                                                                                                                                                                                                                         WIKINEWSMédias La source d'informationsque vous pouvez écrire Ce  samedi   à : (UTC),Wikinews Médias compte  articles. Actualiser la page  ...                                                                                                                                                                                                                                                                                                                                                                                                                                                                                                                                                                                                                                                           [WIKINEWSMédias, source, informationsque, pouvez, écrire,  , samedi,   , :, (, UTC),Wikinews, Médias, compte,  , articles, ., Actualiser, page]\n",
              "3                                                                                                                                                                                                                                                                                                                                                                                                                                                                                                                                                                                                                                                                                                                                                                                                                                                                                                                                                                                                                                                                                                                                                                               Cette journée, instaurée par l'UNESCO aura pour thème des « médias et de la bonne gouvernance ». Une conférence est organisée à Dakar du  au  . Dans un message, le directeur général de l'UNESCO Koïchiro Matsuura a, entre autres, rappelé l'article  de la Déclaration Universelle des Droits de L'Homme : « Tout individu a droit à la liberté d'opinion et d'expression, ce qui implique le droit de ne pas être inquiété pour ses opinions et celui de chercher, de recevoir et de répandre, sans considérations de frontières, les informations et les idées par quelque moyen d'expression que ce soit », et que « …La bonne gouvernance peut pâtir de la corruption, qui perturbe la libre circulation de l'information… »  ...                                                                                                                                                                                                                 [ , journée, ,, instaurée, UNESCO, thème, «,  , médias, bonne, gouvernance,  , », ., conférence, organisée, Dakar,  ,  , ., message, ,, directeur, général, UNESCO, Koïchiro, Matsuura, ,, ,, rappelé, article,  , Déclaration, Universelle, Droits, Homme,  , :, «,  , individu, droit, liberté, opinion, expression, ,, implique, droit, inquiété, opinions, chercher, ,, recevoir, répandre, ,, considérations, frontières, ,, informations, idées, moyen, expression,  , », ,, «,  , …, bonne, gouvernance, pâtir, corruption, ,, perturbe, libre, circulation, information, …,  , »]\n",
              "\n",
              "[4 rows x 4 columns]"
            ]
          },
          "metadata": {},
          "execution_count": 41
        }
      ]
    },
    {
      "cell_type": "markdown",
      "source": [
        "Sauve garder dataframe dans un CSV"
      ],
      "metadata": {
        "id": "WYrm_FvUoMLA"
      }
    },
    {
      "cell_type": "code",
      "source": [
        "df.to_csv('article_pretaitement.csv')\n"
      ],
      "metadata": {
        "id": "zNx1nftzov3F"
      },
      "execution_count": 44,
      "outputs": []
    }
  ]
}